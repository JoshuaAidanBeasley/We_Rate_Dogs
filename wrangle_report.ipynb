{
 "cells": [
  {
   "cell_type": "markdown",
   "metadata": {},
   "source": [
    "# Wrangling Efforts"
   ]
  },
  {
   "cell_type": "markdown",
   "metadata": {},
   "source": [
    "#### In completing this project I used three files: \n",
    "\n",
    "- twitter-archive-enhanced.csv, which was provided by Udacity\n",
    "- image-predictions.csv, which was downloaded programtically\n",
    "- tweet_json.txt, which was gathered by searching for the tweet_id's from twitter-archive-enhanced.csv using the tweepy api.\n",
    "\n",
    "#### The issues we found when assessing the data were as follows:\n",
    "\n",
    "*Tidy*\n",
    "\n",
    "- multiple urls in expanded url (for multiple-photo posts)\n",
    "- doggo, floofer, pupper, puppo columns should be either binary or all put into one column.\n",
    "\n",
    "*Quality*\n",
    "\n",
    "- doggo, floofer, pupper, puppo columns have string 'None' instead of NaN\n",
    "- (df_image.p1_conf + df_image.p2_conf + df_image.p3_conf) never equals 1. Should add a column to identify probability of 'other'.\n",
    "- - name column has 'None' instead of NaN. Also contains 'a', 'the', 'an', 'quite' in many nameless rows\n",
    "- in_reply_to_status_id, in_reply_to_user_id, retweeted_status_id, retweeted_status_user_id should not be float.\n",
    "- Some rows are capitalised and others are not - in the p1, p2, and p3 columns. Also, words are separated by '_'\n",
    "- Should be a way to easily identify whether it is a reply, retweet or original.\n",
    "- timestamp column should be 'datetime' instead of object.\n",
    "- remove retweets\n",
    "- delete rows with no expanded url (as they do not have photos)\n",
    "\n",
    "#### I cleaned the issues and reassessed.\n",
    "\n",
    "*Reassessment*\n",
    "\n",
    "- Columns 'retweeted_status_id', 'retweeted_status_user_id', 'retweeted_status_timestamp' are empty. Drop them\n",
    "- Merge df_twitter, df_image, and df_json on tweet_id.\n",
    "\n",
    "All three dataframes were merges by tweet_id and saved as twitter_archive_master.csv."
   ]
  },
  {
   "cell_type": "code",
   "execution_count": null,
   "metadata": {},
   "outputs": [],
   "source": []
  }
 ],
 "metadata": {
  "kernelspec": {
   "display_name": "Python [conda env:anaconda3]",
   "language": "python",
   "name": "conda-env-anaconda3-py"
  },
  "language_info": {
   "codemirror_mode": {
    "name": "ipython",
    "version": 3
   },
   "file_extension": ".py",
   "mimetype": "text/x-python",
   "name": "python",
   "nbconvert_exporter": "python",
   "pygments_lexer": "ipython3",
   "version": "3.6.5"
  }
 },
 "nbformat": 4,
 "nbformat_minor": 2
}
